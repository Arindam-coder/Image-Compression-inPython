{
 "cells": [
  {
   "cell_type": "code",
   "execution_count": 1,
   "metadata": {},
   "outputs": [],
   "source": [
    "import numpy as np\n",
    "import cv2\n",
    "import matplotlib.pyplot as plt\n",
    "import tensorflow as tf\n",
    "import os"
   ]
  },
  {
   "cell_type": "code",
   "execution_count": 2,
   "metadata": {},
   "outputs": [
    {
     "name": "stdout",
     "output_type": "stream",
     "text": [
      "(120, 120)\n"
     ]
    }
   ],
   "source": [
    "img = cv2.imread('/home/arindam/Downloads/Screenshot_2020-08-11 ML Acclerator.png')\n",
    "img = np.resize(img,(120,120,3))\n",
    "img = cv2.cvtColor(img, cv2.COLOR_BGR2GRAY)\n",
    "print(img.shape)\n",
    "H = img.shape[0]\n",
    "L = img.shape[1]\n",
    "#C = img.shape[2]"
   ]
  },
  {
   "cell_type": "code",
   "execution_count": 3,
   "metadata": {},
   "outputs": [
    {
     "name": "stdout",
     "output_type": "stream",
     "text": [
      "Here the value of M, N, m, n are respectively  8 8 15 15\n",
      "Shape of x is  (64, 225)\n",
      "Shape of xhat is  (225, 64)\n"
     ]
    }
   ],
   "source": [
    "M = 8\n",
    "N = 8\n",
    "m = H//M\n",
    "n = L//N\n",
    "\n",
    "print(\"Here the value of M, N, m, n are respectively \", M, N,m,n)\n",
    "\n",
    "for i in range(0,M):\n",
    "    for j in range(0,N):\n",
    "        sub_img = img[i*m:(i+1)*m,j*n:(j+1)*n]\n",
    "        vec = sub_img.reshape(1,sub_img.shape[0]*sub_img.shape[1])\n",
    "        if(i==0 and j==0):\n",
    "            im_vec = vec\n",
    "        else:\n",
    "            im_vec = np.vstack((im_vec, vec))\n",
    "     \n",
    "\n",
    "print(\"Shape of x is \",im_vec.shape) # Shape of x should be (MN, mn) = (8*8, 15*15) = (64,225)\n",
    "xhat = im_vec.T\n",
    "print(\"Shape of xhat is \", xhat.shape)"
   ]
  },
  {
   "cell_type": "code",
   "execution_count": 4,
   "metadata": {},
   "outputs": [
    {
     "name": "stdout",
     "output_type": "stream",
     "text": [
      "U.shape,lambd.shape, V.shape\n"
     ]
    }
   ],
   "source": [
    "U, lambd, V = np.linalg.svd(xhat)\n",
    "print(\"U.shape,lambd.shape, V.shape\")"
   ]
  },
  {
   "cell_type": "code",
   "execution_count": 5,
   "metadata": {},
   "outputs": [
    {
     "name": "stdout",
     "output_type": "stream",
     "text": [
      "Shape of Theta  (30, 225)\n",
      "Shape of y (30, 64)\n"
     ]
    }
   ],
   "source": [
    "p = 30 # p << mn\n",
    "Theta = U[0:p,:]\n",
    "print(\"Shape of Theta \",Theta.shape)\n",
    "y = np.dot(Theta , xhat)\n",
    "print(\"Shape of y\", y.shape) # shape of y is p x MN"
   ]
  },
  {
   "cell_type": "code",
   "execution_count": 6,
   "metadata": {},
   "outputs": [
    {
     "name": "stdout",
     "output_type": "stream",
     "text": [
      "(8, 8, 30)\n"
     ]
    }
   ],
   "source": [
    "for i in range(y.shape[0]):\n",
    "    vec = y[i]\n",
    "    im_ch = vec.reshape(M, N)\n",
    "    if(i==0):\n",
    "        output = im_ch\n",
    "    else:        \n",
    "        output = np.dstack((output, im_ch))\n",
    "        \n",
    "print(output.shape) # Shape will be (M,N,p) = (8,8,30)"
   ]
  }
 ],
 "metadata": {
  "kernelspec": {
   "display_name": "Python 3",
   "language": "python",
   "name": "python3"
  },
  "language_info": {
   "codemirror_mode": {
    "name": "ipython",
    "version": 3
   },
   "file_extension": ".py",
   "mimetype": "text/x-python",
   "name": "python",
   "nbconvert_exporter": "python",
   "pygments_lexer": "ipython3",
   "version": "3.8.2"
  }
 },
 "nbformat": 4,
 "nbformat_minor": 4
}
