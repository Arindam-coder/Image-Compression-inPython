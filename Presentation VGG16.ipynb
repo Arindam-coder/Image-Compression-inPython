{
 "cells": [
  {
   "cell_type": "markdown",
   "metadata": {},
   "source": [
    "# Importing packages"
   ]
  },
  {
   "cell_type": "code",
   "execution_count": 1,
   "metadata": {},
   "outputs": [],
   "source": [
    "from tensorflow.keras.layers import Input, InputLayer, Dense, Flatten, Conv2D,Activation, BatchNormalization\n",
    "from tensorflow.keras.callbacks import ModelCheckpoint,LearningRateScheduler\n",
    "from tensorflow.keras.applications.vgg16 import VGG16\n",
    "from tensorflow.keras.optimizers import Adam, RMSprop\n",
    "from sklearn.model_selection import train_test_split\n",
    "from tensorflow.keras.layers import MaxPooling2D\n",
    "from sklearn.preprocessing import OneHotEncoder\n",
    "from tensorflow.keras.layers import Dropout\n",
    "from tensorflow.keras.models import  Model\n",
    "from sklearn.metrics import f1_score\n",
    "import matplotlib.pyplot as plt\n",
    "import pandas as pd\n",
    "import numpy as np\n",
    "import os, cv2\n",
    "import random\n",
    "import PIL\n",
    "import scipy"
   ]
  },
  {
   "cell_type": "markdown",
   "metadata": {},
   "source": [
    "# Creating data"
   ]
  },
  {
   "cell_type": "code",
   "execution_count": 2,
   "metadata": {},
   "outputs": [
    {
     "name": "stdout",
     "output_type": "stream",
     "text": [
      "Dimension of training and testing images : (240, 240)\n",
      "Number of training set images :  721\n",
      "Number of testing set images :  241\n"
     ]
    }
   ],
   "source": [
    "data_path='D:/Work/Jadavpur_university/Research/train_set'\n",
    "list_folder=os.listdir(path = data_path)\n",
    "data=[]\n",
    "im_size=240    \n",
    "for i in list_folder:\n",
    "    new_path=os.path.join(data_path,i) \n",
    "    pic_list=os.listdir(new_path)                                               \n",
    "    for img in pic_list:\n",
    "        pic=os.path.join(new_path,img)   \n",
    "        arr=cv2.imread(pic)    \n",
    "        data.append([arr,list_folder.index(i)])    \n",
    "        \n",
    "random.shuffle(data)  \n",
    "x_train,y_train=[],[]\n",
    "for i,j in data:\n",
    "    x_train.append(i)\n",
    "    y_train.append(j)\n",
    "x_train=np.array(x_train).reshape(-1,im_size,im_size,3)\n",
    "y_train=np.array(y_train).reshape(-1,1)\n",
    "\n",
    "encoder = OneHotEncoder()\n",
    "y_train = encoder.fit_transform(y_train)\n",
    "X_train = x_train/255\n",
    "y_train = y_train.toarray()\n",
    "\n",
    "\n",
    "X_train, X_test, Y_train, Y_test = train_test_split(X_train,y_train, test_size=0.25)\n",
    "\n",
    "\n",
    "print('Dimension of training and testing images :', X_train.shape[1:3])\n",
    "print('Number of training set images : ', X_train.shape[0])\n",
    "print('Number of testing set images : ', X_test.shape[0])"
   ]
  },
  {
   "cell_type": "markdown",
   "metadata": {},
   "source": [
    "# Importing pre-trained model"
   ]
  },
  {
   "cell_type": "code",
   "execution_count": 3,
   "metadata": {},
   "outputs": [
    {
     "name": "stdout",
     "output_type": "stream",
     "text": [
      "Last layer shape: (None, 15, 15, 512)\n"
     ]
    }
   ],
   "source": [
    "from tensorflow.keras.applications.vgg16 import VGG16\n",
    "\n",
    "model = VGG16(input_shape = (240,240,3),\n",
    "              include_top = False,\n",
    "              weights = None)\n",
    "\n",
    "weights = 'D:/Work/Jadavpur_University/Research/weights/vgg16.h5'\n",
    "model.load_weights(weights)\n",
    "\n",
    "for layer in model.layers:\n",
    "    layer.trainable = False\n",
    "    \n",
    "last_layer = model.get_layer('block5_conv3')\n",
    "last = last_layer.output\n",
    "\n",
    "print('Last layer shape:', last.shape)\n",
    "\n"
   ]
  },
  {
   "cell_type": "markdown",
   "metadata": {},
   "source": [
    "# Adding our model"
   ]
  },
  {
   "cell_type": "code",
   "execution_count": 13,
   "metadata": {
    "collapsed": true
   },
   "outputs": [
    {
     "name": "stdout",
     "output_type": "stream",
     "text": [
      "Model: \"model_1\"\n",
      "_________________________________________________________________\n",
      "Layer (type)                 Output Shape              Param #   \n",
      "=================================================================\n",
      "input_1 (InputLayer)         [(None, 240, 240, 3)]     0         \n",
      "_________________________________________________________________\n",
      "block1_conv1 (Conv2D)        (None, 240, 240, 64)      1792      \n",
      "_________________________________________________________________\n",
      "block1_conv2 (Conv2D)        (None, 240, 240, 64)      36928     \n",
      "_________________________________________________________________\n",
      "block1_pool (MaxPooling2D)   (None, 120, 120, 64)      0         \n",
      "_________________________________________________________________\n",
      "block2_conv1 (Conv2D)        (None, 120, 120, 128)     73856     \n",
      "_________________________________________________________________\n",
      "block2_conv2 (Conv2D)        (None, 120, 120, 128)     147584    \n",
      "_________________________________________________________________\n",
      "block2_pool (MaxPooling2D)   (None, 60, 60, 128)       0         \n",
      "_________________________________________________________________\n",
      "block3_conv1 (Conv2D)        (None, 60, 60, 256)       295168    \n",
      "_________________________________________________________________\n",
      "block3_conv2 (Conv2D)        (None, 60, 60, 256)       590080    \n",
      "_________________________________________________________________\n",
      "block3_conv3 (Conv2D)        (None, 60, 60, 256)       590080    \n",
      "_________________________________________________________________\n",
      "block3_pool (MaxPooling2D)   (None, 30, 30, 256)       0         \n",
      "_________________________________________________________________\n",
      "block4_conv1 (Conv2D)        (None, 30, 30, 512)       1180160   \n",
      "_________________________________________________________________\n",
      "block4_conv2 (Conv2D)        (None, 30, 30, 512)       2359808   \n",
      "_________________________________________________________________\n",
      "block4_conv3 (Conv2D)        (None, 30, 30, 512)       2359808   \n",
      "_________________________________________________________________\n",
      "block4_pool (MaxPooling2D)   (None, 15, 15, 512)       0         \n",
      "_________________________________________________________________\n",
      "block5_conv1 (Conv2D)        (None, 15, 15, 512)       2359808   \n",
      "_________________________________________________________________\n",
      "block5_conv2 (Conv2D)        (None, 15, 15, 512)       2359808   \n",
      "_________________________________________________________________\n",
      "block5_conv3 (Conv2D)        (None, 15, 15, 512)       2359808   \n",
      "_________________________________________________________________\n",
      "conv2d_1 (Conv2D)            (None, 15, 15, 400)       205200    \n",
      "_________________________________________________________________\n",
      "max_pooling2d_1 (MaxPooling2 (None, 7, 7, 400)         0         \n",
      "_________________________________________________________________\n",
      "flatten_1 (Flatten)          (None, 19600)             0         \n",
      "_________________________________________________________________\n",
      "dense_3 (Dense)              (None, 256)               5017856   \n",
      "_________________________________________________________________\n",
      "dropout_2 (Dropout)          (None, 256)               0         \n",
      "_________________________________________________________________\n",
      "dense_4 (Dense)              (None, 128)               32896     \n",
      "_________________________________________________________________\n",
      "dropout_3 (Dropout)          (None, 128)               0         \n",
      "_________________________________________________________________\n",
      "dense_5 (Dense)              (None, 4)                 516       \n",
      "=================================================================\n",
      "Total params: 19,971,156\n",
      "Trainable params: 5,256,468\n",
      "Non-trainable params: 14,714,688\n",
      "_________________________________________________________________\n"
     ]
    }
   ],
   "source": [
    "x = Conv2D(400, (1,1), activation = 'relu', input_shape = last.shape[1:])(last)\n",
    "x = MaxPooling2D((2,2))(x)\n",
    "x = Flatten()(x)\n",
    "x = Dense(256, activation = 'relu')(x)\n",
    "x = Dropout(rate = 0.25)(x)\n",
    "x = Dense(128, activation = 'relu')(x)\n",
    "x = Dropout(rate = 0.25)(x)\n",
    "x = Dense(4, activation = 'softmax')(x)\n",
    "\n",
    "classifier = Model(inputs = model.input, outputs = x)\n",
    "opt1 = Adam(learning_rate = 0.002)\n",
    "opt2 = RMSprop(learning_rate = 0.001)\n",
    "classifier.compile(optimizer = opt1 , loss = 'categorical_crossentropy', metrics = ['accuracy'])\n",
    "\n",
    "classifier.summary()"
   ]
  },
  {
   "cell_type": "markdown",
   "metadata": {},
   "source": [
    "## Training the model"
   ]
  },
  {
   "cell_type": "code",
   "execution_count": 14,
   "metadata": {
    "collapsed": true
   },
   "outputs": [
    {
     "name": "stdout",
     "output_type": "stream",
     "text": [
      "Train on 721 samples, validate on 241 samples\n",
      "Epoch 1/20\n",
      "721/721 [==============================] - 34s 48ms/sample - loss: 1.6983 - accuracy: 0.6325 - val_loss: 0.5147 - val_accuracy: 0.7759\n",
      "Epoch 2/20\n",
      "721/721 [==============================] - 33s 46ms/sample - loss: 0.3960 - accuracy: 0.8571 - val_loss: 0.2777 - val_accuracy: 0.9046\n",
      "Epoch 3/20\n",
      "721/721 [==============================] - 33s 46ms/sample - loss: 0.2298 - accuracy: 0.9223 - val_loss: 0.1963 - val_accuracy: 0.9212\n",
      "Epoch 4/20\n",
      "721/721 [==============================] - 33s 46ms/sample - loss: 0.1640 - accuracy: 0.9320 - val_loss: 0.1609 - val_accuracy: 0.9461\n",
      "Epoch 5/20\n",
      "721/721 [==============================] - 33s 46ms/sample - loss: 0.0975 - accuracy: 0.9626 - val_loss: 0.2043 - val_accuracy: 0.9461\n",
      "Epoch 6/20\n",
      "721/721 [==============================] - 34s 47ms/sample - loss: 0.1151 - accuracy: 0.9612 - val_loss: 0.2559 - val_accuracy: 0.9253\n",
      "Epoch 7/20\n",
      "721/721 [==============================] - 34s 47ms/sample - loss: 0.0918 - accuracy: 0.9750 - val_loss: 0.1642 - val_accuracy: 0.9378\n",
      "Epoch 8/20\n",
      "721/721 [==============================] - 35s 48ms/sample - loss: 0.0708 - accuracy: 0.9778 - val_loss: 0.1509 - val_accuracy: 0.9461\n",
      "Epoch 9/20\n",
      "721/721 [==============================] - 34s 47ms/sample - loss: 0.0314 - accuracy: 0.9958 - val_loss: 0.1206 - val_accuracy: 0.9627\n",
      "Epoch 10/20\n",
      "721/721 [==============================] - 34s 47ms/sample - loss: 0.0267 - accuracy: 0.9931 - val_loss: 0.1107 - val_accuracy: 0.9710\n",
      "Epoch 11/20\n",
      "721/721 [==============================] - 34s 47ms/sample - loss: 0.0484 - accuracy: 0.9875 - val_loss: 0.4094 - val_accuracy: 0.9004\n",
      "Epoch 12/20\n",
      "721/721 [==============================] - 34s 47ms/sample - loss: 0.0285 - accuracy: 0.9917 - val_loss: 0.1951 - val_accuracy: 0.9502\n",
      "Epoch 13/20\n",
      "721/721 [==============================] - 34s 47ms/sample - loss: 0.0773 - accuracy: 0.9778 - val_loss: 0.6006 - val_accuracy: 0.8797\n",
      "Epoch 14/20\n",
      "721/721 [==============================] - 34s 47ms/sample - loss: 0.0856 - accuracy: 0.9764 - val_loss: 0.2082 - val_accuracy: 0.9627\n",
      "Epoch 15/20\n",
      "721/721 [==============================] - 34s 47ms/sample - loss: 0.0502 - accuracy: 0.9889 - val_loss: 0.1770 - val_accuracy: 0.9544\n",
      "Epoch 16/20\n",
      "721/721 [==============================] - 34s 47ms/sample - loss: 0.0067 - accuracy: 0.9972 - val_loss: 0.1732 - val_accuracy: 0.9627\n",
      "Epoch 17/20\n",
      "721/721 [==============================] - 34s 47ms/sample - loss: 0.0068 - accuracy: 0.9972 - val_loss: 0.2552 - val_accuracy: 0.9544\n",
      "Epoch 18/20\n",
      "721/721 [==============================] - 34s 47ms/sample - loss: 0.0021 - accuracy: 0.9986 - val_loss: 0.1554 - val_accuracy: 0.9668\n",
      "Epoch 19/20\n",
      "721/721 [==============================] - 34s 47ms/sample - loss: 4.0765e-04 - accuracy: 1.0000 - val_loss: 0.1590 - val_accuracy: 0.9710\n",
      "Epoch 20/20\n",
      "721/721 [==============================] - 34s 47ms/sample - loss: 8.4229e-04 - accuracy: 1.0000 - val_loss: 0.1546 - val_accuracy: 0.9751\n"
     ]
    }
   ],
   "source": [
    "history = classifier.fit(X_train, Y_train, batch_size = 10, epochs = 20, shuffle = True, validation_data=(X_test, Y_test))"
   ]
  },
  {
   "cell_type": "markdown",
   "metadata": {},
   "source": [
    "# Visualizing the loss and accuracy"
   ]
  },
  {
   "cell_type": "code",
   "execution_count": 15,
   "metadata": {
    "collapsed": true
   },
   "outputs": [
    {
     "data": {
      "image/png": "[encoded data removed]",
      "text/plain": [
       "<Figure size 432x288 with 1 Axes>"
      ]
     },
     "metadata": {
      "needs_background": "light"
     },
     "output_type": "display_data"
    }
   ],
   "source": [
    "import matplotlib.pyplot as plt\n",
    "\n",
    "\n",
    "acc = history.history['accuracy']\n",
    "epochs = range(1, len(acc) + 1)\n",
    "val_acc = history.history['val_accuracy']\n",
    "plt.plot(epochs, acc, color='red', label='Training Accuracy')\n",
    "plt.plot(epochs, val_acc, color='green', label='Validation Accuracy')\n",
    "plt.xlabel('Epochs')\n",
    "plt.ylabel('Accuracy')\n",
    "plt.legend()\n",
    "plt.show()"
   ]
  },
  {
   "cell_type": "markdown",
   "metadata": {},
   "source": [
    "# Calculating the F1 Score\n",
    "\n",
    "### Getting the actual targets and the predicted results"
   ]
  },
  {
   "cell_type": "code",
   "execution_count": 16,
   "metadata": {},
   "outputs": [],
   "source": [
    "classifier.save('brain_vgg16_final.h5')\n",
    "preds = classifier.predict(X_test)\n",
    "actual = []\n",
    "predictions = []\n",
    "for i in range(len(preds)):\n",
    "    actual.append(np.argmax(Y_test[i]))\n",
    "    predictions.append(np.argmax(preds[i]))"
   ]
  },
  {
   "cell_type": "markdown",
   "metadata": {},
   "source": [
    "### Getting the data for evaluation of precision, recall and F1 score"
   ]
  },
  {
   "cell_type": "code",
   "execution_count": 17,
   "metadata": {},
   "outputs": [],
   "source": [
    "a1,b1,c1,d1,a2,b2,c2,d2,a3,b3,c3,d3,a4,b4,c4,d4 = 0,0,0,0,0,0,0,0,0,0,0,0,0,0,0,0\n",
    "for j in range(len(actual)):\n",
    "    if actual[j] == 0:\n",
    "        if predictions[j] == 0:\n",
    "            a1 += 1\n",
    "        elif predictions[j] == 1:\n",
    "            a2 += 1\n",
    "        elif predictions[j] == 2:\n",
    "            a3 += 1\n",
    "        else:\n",
    "            a4 += 1\n",
    "    elif actual[j] == 1:\n",
    "        if predictions[j] == 0:\n",
    "            b1 += 1\n",
    "        elif predictions[j] == 1:\n",
    "            b2 += 1\n",
    "        elif predictions[j] == 2:\n",
    "            b3 += 1\n",
    "        else:\n",
    "            b4 += 1\n",
    "    elif actual[j] == 2:\n",
    "        if predictions[j] == 0:\n",
    "            c1 += 1\n",
    "        elif predictions[j] == 1:\n",
    "            c2 += 1\n",
    "        elif predictions[j] == 2:\n",
    "            c3 += 1\n",
    "        else:\n",
    "            c4 += 1\n",
    "    elif actual[j] == 3:\n",
    "        if predictions[j] == 0:\n",
    "            d1 += 1\n",
    "        elif predictions[j] == 1:\n",
    "            d2 += 1\n",
    "        elif predictions[j] == 2:\n",
    "            d3 += 1\n",
    "        else:\n",
    "            d4 += 1\n",
    "            \n",
    "            "
   ]
  },
  {
   "cell_type": "code",
   "execution_count": 18,
   "metadata": {},
   "outputs": [],
   "source": [
    "def h_mean(x,y):\n",
    "    return (2*(x*y)/(x+y))"
   ]
  },
  {
   "cell_type": "markdown",
   "metadata": {},
   "source": [
    "### Finding recall, precision and F1 score for each class"
   ]
  },
  {
   "cell_type": "code",
   "execution_count": 19,
   "metadata": {
    "collapsed": true
   },
   "outputs": [
    {
     "name": "stdout",
     "output_type": "stream",
     "text": [
      "The F1 score for flair class is : 0.9734513274336283\n",
      "The F1 score for t1 class is : 0.9661016949152542\n",
      "The F1 score for t1ce class is : 0.9586776859504132\n",
      "The F1 score for t2 class is : 1.0\n",
      "\n",
      "Average F1 score is:  0.9745576770748239\n"
     ]
    }
   ],
   "source": [
    "#flair\n",
    "tpf = a1\n",
    "fpf = b1+c1+d1\n",
    "fnf = a2+a3+a4\n",
    "precision_flair = tpf/(tpf + fpf)\n",
    "recall_flair = tpf/(tpf+fnf)\n",
    "try:\n",
    "    F1_flair = h_mean(precision_flair, recall_flair)\n",
    "    print('The F1 score for flair class is :', F1_flair)\n",
    "except:\n",
    "    print('Sorry division by zero')\n",
    "\n",
    "#t1\n",
    "tpt1 = b2\n",
    "fpt1 = a2+c2+d2\n",
    "fnt1 = b1+b3+b4\n",
    "precision_t1 = tpt1/(tpt1 + fpt1)\n",
    "recall_t1 = tpt1/(tpt1+fnt1)\n",
    "try:\n",
    "    F1_t1 = h_mean(precision_t1, recall_t1)\n",
    "    print('The F1 score for t1 class is :', F1_t1)\n",
    "except:\n",
    "    print('Sorry division by zero')\n",
    "\n",
    "#t1ce\n",
    "tpt1ce = c3\n",
    "fpt1ce = a3+b3+d3\n",
    "fnt1ce = c1+c2+c4\n",
    "try:\n",
    "    precision_t1ce = tpt1ce/(tpt1ce + fpt1ce)\n",
    "    recall_t1ce = tpt1ce/(tpt1ce+fnt1ce)\n",
    "    F1_t1ce = h_mean(precision_t1ce, recall_t1ce)\n",
    "    print('The F1 score for t1ce class is :', F1_t1ce)\n",
    "except:\n",
    "    print('Sorry division by zero, therefore = 0')\n",
    "    \n",
    "    \n",
    "#t2\n",
    "tpt2 = d4\n",
    "fpt2 = a4+b4+c4\n",
    "fnt2 = d1+d2+d3\n",
    "try:\n",
    "    precision_t2 = tpt2/(tpt2 + fpt2)\n",
    "    recall_t2 = tpt2/(tpt2+fnt2)\n",
    "    F1_t2 = h_mean(precision_t2, recall_t2)\n",
    "    print('The F1 score for t2 class is :', F1_t2)\n",
    "except:\n",
    "    print('Sorry division by zero')\n",
    "    \n",
    "    \n",
    "    \n",
    "print('\\nAverage F1 score is: ', (F1_flair+F1_t1+F1_t1ce+F1_t2)/4)"
   ]
  },
  {
   "cell_type": "markdown",
   "metadata": {},
   "source": [
    "# Confusion matrix"
   ]
  },
  {
   "cell_type": "code",
   "execution_count": 20,
   "metadata": {
    "collapsed": true
   },
   "outputs": [
    {
     "data": {
      "text/html": [
       "<div>\n",
       "<style scoped>\n",
       "    .dataframe tbody tr th:only-of-type {\n",
       "        vertical-align: middle;\n",
       "    }\n",
       "\n",
       "    .dataframe tbody tr th {\n",
       "        vertical-align: top;\n",
       "    }\n",
       "\n",
       "    .dataframe thead th {\n",
       "        text-align: right;\n",
       "    }\n",
       "</style>\n",
       "<table border=\"1\" class=\"dataframe\">\n",
       "  <thead>\n",
       "    <tr style=\"text-align: right;\">\n",
       "      <th></th>\n",
       "      <th>flair</th>\n",
       "      <th>t1</th>\n",
       "      <th>t1ce</th>\n",
       "      <th>t2</th>\n",
       "    </tr>\n",
       "  </thead>\n",
       "  <tbody>\n",
       "    <tr>\n",
       "      <th>flair</th>\n",
       "      <td>55</td>\n",
       "      <td>1</td>\n",
       "      <td>2</td>\n",
       "      <td>0</td>\n",
       "    </tr>\n",
       "    <tr>\n",
       "      <th>t1</th>\n",
       "      <td>0</td>\n",
       "      <td>57</td>\n",
       "      <td>3</td>\n",
       "      <td>0</td>\n",
       "    </tr>\n",
       "    <tr>\n",
       "      <th>t1ce</th>\n",
       "      <td>0</td>\n",
       "      <td>0</td>\n",
       "      <td>58</td>\n",
       "      <td>0</td>\n",
       "    </tr>\n",
       "    <tr>\n",
       "      <th>t2</th>\n",
       "      <td>0</td>\n",
       "      <td>0</td>\n",
       "      <td>0</td>\n",
       "      <td>65</td>\n",
       "    </tr>\n",
       "  </tbody>\n",
       "</table>\n",
       "</div>"
      ],
      "text/plain": [
       "       flair  t1  t1ce  t2\n",
       "flair     55   1     2   0\n",
       "t1         0  57     3   0\n",
       "t1ce       0   0    58   0\n",
       "t2         0   0     0  65"
      ]
     },
     "execution_count": 20,
     "metadata": {},
     "output_type": "execute_result"
    }
   ],
   "source": [
    "table = [[a1,b1,c1,d1], [a2,b2,c2,d2], [a3,b3,c3,d3], [a4,b4,c4,d4]]\n",
    "table = np.array(table)\n",
    "confusion_matrix = pd.DataFrame(data = table, index = ['flair', 't1', 't1ce', 't2'], columns = ['flair', 't1', 't1ce', 't2'] )\n",
    "confusion_matrix"
   ]
  },
  {
   "cell_type": "markdown",
   "metadata": {},
   "source": [
    "# K-folds cross validation"
   ]
  },
  {
   "cell_type": "code",
   "execution_count": 21,
   "metadata": {},
   "outputs": [
    {
     "name": "stderr",
     "output_type": "stream",
     "text": [
      "Using TensorFlow backend.\n"
     ]
    }
   ],
   "source": [
    "from keras.wrappers.scikit_learn import KerasClassifier\n",
    "from sklearn.model_selection import cross_val_score\n",
    "\n",
    "def build_classifier():\n",
    "    x = Conv2D(200, (1,1), activation = 'relu', input_shape = last.shape[1:])(last)\n",
    "    x = MaxPooling2D((2,2))(x)\n",
    "    x = Flatten()(x)\n",
    "    x = Dense(512, activation = 'relu')(x)\n",
    "    x = Dropout(rate = 0.25)(x)\n",
    "    x = Dense(256, activation = 'relu')(x)\n",
    "    x = Dropout(rate = 0.25)(x)\n",
    "    x = Dense(4, activation = 'softmax')(x)\n",
    "\n",
    "    classifier = Model(inputs = model.input, outputs = x)\n",
    "    opt1 = Adam(learning_rate = 0.001)\n",
    "    opt2 = RMSprop(learning_rate = 0.001)\n",
    "    classifier.compile(optimizer = opt2 , loss = 'categorical_crossentropy', metrics = ['accuracy'])\n",
    "    \n",
    "    return classifier"
   ]
  },
  {
   "cell_type": "code",
   "execution_count": 22,
   "metadata": {},
   "outputs": [],
   "source": [
    "classifier = KerasClassifier(build_fn = build_classifier, batch_size = 10, epochs = 15)"
   ]
  },
  {
   "cell_type": "code",
   "execution_count": 23,
   "metadata": {
    "collapsed": true
   },
   "outputs": [
    {
     "name": "stdout",
     "output_type": "stream",
     "text": [
      "Train on 600 samples\n",
      "Epoch 1/15\n",
      "600/600 [==============================] - 22s 36ms/sample - loss: 2.3609 - accuracy: 0.5367\n",
      "Epoch 2/15\n",
      "600/600 [==============================] - 21s 35ms/sample - loss: 0.4496 - accuracy: 0.8233\n",
      "Epoch 3/15\n",
      "600/600 [==============================] - 21s 35ms/sample - loss: 0.2661 - accuracy: 0.8983\n",
      "Epoch 4/15\n",
      "600/600 [==============================] - 21s 35ms/sample - loss: 0.1762 - accuracy: 0.9433\n",
      "Epoch 5/15\n",
      "600/600 [==============================] - 21s 35ms/sample - loss: 0.1437 - accuracy: 0.9650\n",
      "Epoch 6/15\n",
      "600/600 [==============================] - 21s 35ms/sample - loss: 0.1112 - accuracy: 0.9683\n",
      "Epoch 7/15\n",
      "600/600 [==============================] - 21s 35ms/sample - loss: 0.0483 - accuracy: 0.9867\n",
      "Epoch 8/15\n",
      "600/600 [==============================] - 21s 36ms/sample - loss: 0.0554 - accuracy: 0.9833\n",
      "Epoch 9/15\n",
      "600/600 [==============================] - 22s 36ms/sample - loss: 0.0354 - accuracy: 0.9900\n",
      "Epoch 10/15\n",
      "600/600 [==============================] - 22s 36ms/sample - loss: 3.1792e-04 - accuracy: 1.0000\n",
      "Epoch 11/15\n",
      "600/600 [==============================] - 22s 36ms/sample - loss: 0.0547 - accuracy: 0.9883\n",
      "Epoch 12/15\n",
      "600/600 [==============================] - 23s 38ms/sample - loss: 0.0465 - accuracy: 0.9850\n",
      "Epoch 13/15\n",
      "600/600 [==============================] - 22s 37ms/sample - loss: 8.6874e-05 - accuracy: 1.0000\n",
      "Epoch 14/15\n",
      "600/600 [==============================] - 22s 37ms/sample - loss: 0.0205 - accuracy: 0.9950\n",
      "Epoch 15/15\n",
      "600/600 [==============================] - 22s 37ms/sample - loss: 7.0628e-05 - accuracy: 1.0000\n",
      "121/121 [==============================] - 5s 38ms/sample - loss: 0.9626 - accuracy: 0.9091\n",
      "Train on 601 samples\n",
      "Epoch 1/15\n",
      "601/601 [==============================] - 23s 39ms/sample - loss: 2.4943 - accuracy: 0.5291\n",
      "Epoch 2/15\n",
      "601/601 [==============================] - 22s 37ms/sample - loss: 0.4215 - accuracy: 0.8469\n",
      "Epoch 3/15\n",
      "601/601 [==============================] - 22s 37ms/sample - loss: 0.2518 - accuracy: 0.9101\n",
      "Epoch 4/15\n",
      "601/601 [==============================] - 22s 37ms/sample - loss: 0.1264 - accuracy: 0.9567\n",
      "Epoch 5/15\n",
      "601/601 [==============================] - 22s 37ms/sample - loss: 0.1470 - accuracy: 0.9468\n",
      "Epoch 6/15\n",
      "601/601 [==============================] - 22s 37ms/sample - loss: 0.1024 - accuracy: 0.9717\n",
      "Epoch 7/15\n",
      "601/601 [==============================] - 22s 37ms/sample - loss: 0.0475 - accuracy: 0.9834\n",
      "Epoch 8/15\n",
      "601/601 [==============================] - 22s 36ms/sample - loss: 0.0955 - accuracy: 0.9867\n",
      "Epoch 9/15\n",
      "601/601 [==============================] - 22s 36ms/sample - loss: 0.0857 - accuracy: 0.9867\n",
      "Epoch 10/15\n",
      "601/601 [==============================] - 22s 36ms/sample - loss: 6.0268e-04 - accuracy: 1.0000\n",
      "Epoch 11/15\n",
      "601/601 [==============================] - 22s 36ms/sample - loss: 0.0522 - accuracy: 0.9950\n",
      "Epoch 12/15\n",
      "601/601 [==============================] - 22s 36ms/sample - loss: 2.4337e-05 - accuracy: 1.0000\n",
      "Epoch 13/15\n",
      "601/601 [==============================] - 22s 36ms/sample - loss: 0.0488 - accuracy: 0.9917\n",
      "Epoch 14/15\n",
      "601/601 [==============================] - 22s 36ms/sample - loss: 0.1061 - accuracy: 0.9900\n",
      "Epoch 15/15\n",
      "601/601 [==============================] - 22s 36ms/sample - loss: 0.0456 - accuracy: 0.9900\n",
      "120/120 [==============================] - 5s 38ms/sample - loss: 0.4911 - accuracy: 0.8833\n",
      "Train on 601 samples\n",
      "Epoch 1/15\n",
      "601/601 [==============================] - 23s 38ms/sample - loss: 2.1931 - accuracy: 0.5291\n",
      "Epoch 2/15\n",
      "601/601 [==============================] - 22s 36ms/sample - loss: 0.4264 - accuracy: 0.8552\n",
      "Epoch 3/15\n",
      "601/601 [==============================] - 22s 36ms/sample - loss: 0.2535 - accuracy: 0.9168\n",
      "Epoch 4/15\n",
      "601/601 [==============================] - 22s 36ms/sample - loss: 0.1615 - accuracy: 0.9451\n",
      "Epoch 5/15\n",
      "601/601 [==============================] - 22s 36ms/sample - loss: 0.0984 - accuracy: 0.9651\n",
      "Epoch 6/15\n",
      "601/601 [==============================] - 22s 36ms/sample - loss: 0.0524 - accuracy: 0.9834\n",
      "Epoch 7/15\n",
      "601/601 [==============================] - 22s 36ms/sample - loss: 0.0579 - accuracy: 0.9834\n",
      "Epoch 8/15\n",
      "601/601 [==============================] - 22s 36ms/sample - loss: 0.0655 - accuracy: 0.9884\n",
      "Epoch 9/15\n",
      "601/601 [==============================] - 22s 36ms/sample - loss: 0.0906 - accuracy: 0.9850\n",
      "Epoch 10/15\n",
      "601/601 [==============================] - 22s 36ms/sample - loss: 0.0261 - accuracy: 0.9933\n",
      "Epoch 11/15\n",
      "601/601 [==============================] - 22s 36ms/sample - loss: 0.0581 - accuracy: 0.9867\n",
      "Epoch 12/15\n",
      "601/601 [==============================] - 22s 36ms/sample - loss: 7.0803e-05 - accuracy: 1.0000\n",
      "Epoch 13/15\n",
      "601/601 [==============================] - 22s 36ms/sample - loss: 0.0357 - accuracy: 0.9917\n",
      "Epoch 14/15\n",
      "601/601 [==============================] - 22s 36ms/sample - loss: 4.0525e-05 - accuracy: 1.0000\n",
      "Epoch 15/15\n",
      "601/601 [==============================] - 22s 36ms/sample - loss: 0.0262 - accuracy: 0.9917\n",
      "120/120 [==============================] - 4s 37ms/sample - loss: 0.5319 - accuracy: 0.9417\n",
      "Train on 601 samples\n",
      "Epoch 1/15\n",
      "601/601 [==============================] - 23s 38ms/sample - loss: 2.4360 - accuracy: 0.5341\n",
      "Epoch 2/15\n",
      "601/601 [==============================] - 22s 36ms/sample - loss: 0.4329 - accuracy: 0.8502\n",
      "Epoch 3/15\n",
      "601/601 [==============================] - 22s 36ms/sample - loss: 0.2547 - accuracy: 0.9201\n",
      "Epoch 4/15\n",
      "601/601 [==============================] - 22s 36ms/sample - loss: 0.1533 - accuracy: 0.9517\n",
      "Epoch 5/15\n",
      "601/601 [==============================] - 22s 36ms/sample - loss: 0.1426 - accuracy: 0.9468\n",
      "Epoch 6/15\n",
      "601/601 [==============================] - 22s 36ms/sample - loss: 0.0453 - accuracy: 0.9884\n",
      "Epoch 7/15\n",
      "601/601 [==============================] - 22s 37ms/sample - loss: 0.0800 - accuracy: 0.9817\n",
      "Epoch 8/15\n",
      "601/601 [==============================] - 22s 36ms/sample - loss: 0.0521 - accuracy: 0.9950\n",
      "Epoch 9/15\n",
      "601/601 [==============================] - 22s 36ms/sample - loss: 0.0625 - accuracy: 0.9867\n",
      "Epoch 10/15\n",
      "601/601 [==============================] - 22s 36ms/sample - loss: 0.0781 - accuracy: 0.9800\n",
      "Epoch 11/15\n",
      "601/601 [==============================] - 22s 36ms/sample - loss: 0.0334 - accuracy: 0.9950\n",
      "Epoch 12/15\n",
      "601/601 [==============================] - 22s 37ms/sample - loss: 0.0808 - accuracy: 0.9850\n",
      "Epoch 13/15\n",
      "601/601 [==============================] - 22s 36ms/sample - loss: 9.8614e-05 - accuracy: 1.0000\n",
      "Epoch 14/15\n",
      "601/601 [==============================] - 22s 36ms/sample - loss: 0.0898 - accuracy: 0.9933\n",
      "Epoch 15/15\n",
      "601/601 [==============================] - 22s 36ms/sample - loss: 0.0988 - accuracy: 0.9884\n",
      "120/120 [==============================] - 4s 37ms/sample - loss: 0.2745 - accuracy: 0.9500\n",
      "Train on 601 samples\n",
      "Epoch 1/15\n",
      "601/601 [==============================] - 23s 38ms/sample - loss: 2.1628 - accuracy: 0.5607\n",
      "Epoch 2/15\n",
      "601/601 [==============================] - 22s 36ms/sample - loss: 0.4021 - accuracy: 0.8636\n",
      "Epoch 3/15\n",
      "601/601 [==============================] - 22s 36ms/sample - loss: 0.2561 - accuracy: 0.9218\n",
      "Epoch 4/15\n",
      "601/601 [==============================] - 22s 36ms/sample - loss: 0.1191 - accuracy: 0.9601\n",
      "Epoch 5/15\n",
      "601/601 [==============================] - 22s 36ms/sample - loss: 0.1256 - accuracy: 0.9667\n",
      "Epoch 6/15\n",
      "601/601 [==============================] - 22s 36ms/sample - loss: 0.1298 - accuracy: 0.9717\n",
      "Epoch 7/15\n",
      "601/601 [==============================] - 22s 36ms/sample - loss: 0.0570 - accuracy: 0.9867\n",
      "Epoch 8/15\n",
      "601/601 [==============================] - 22s 36ms/sample - loss: 0.0841 - accuracy: 0.9867\n",
      "Epoch 9/15\n",
      "601/601 [==============================] - 22s 36ms/sample - loss: 0.0368 - accuracy: 0.9884\n",
      "Epoch 10/15\n",
      "601/601 [==============================] - 22s 36ms/sample - loss: 0.0132 - accuracy: 0.9983\n",
      "Epoch 11/15\n",
      "601/601 [==============================] - 22s 36ms/sample - loss: 0.1255 - accuracy: 0.9800\n",
      "Epoch 12/15\n",
      "601/601 [==============================] - 22s 36ms/sample - loss: 0.0248 - accuracy: 0.9917\n",
      "Epoch 13/15\n",
      "601/601 [==============================] - 22s 36ms/sample - loss: 0.0248 - accuracy: 0.9983\n",
      "Epoch 14/15\n"
     ]
    },
    {
     "name": "stdout",
     "output_type": "stream",
     "text": [
      "601/601 [==============================] - 22s 36ms/sample - loss: 0.0340 - accuracy: 0.9967\n",
      "Epoch 15/15\n",
      "601/601 [==============================] - 22s 36ms/sample - loss: 0.0248 - accuracy: 0.9967\n",
      "120/120 [==============================] - 4s 37ms/sample - loss: 0.4979 - accuracy: 0.9583\n",
      "Train on 601 samples\n",
      "Epoch 1/15\n",
      "601/601 [==============================] - 23s 39ms/sample - loss: 2.5387 - accuracy: 0.4925\n",
      "Epoch 2/15\n",
      "601/601 [==============================] - 22s 36ms/sample - loss: 0.4206 - accuracy: 0.8369\n",
      "Epoch 3/15\n",
      "601/601 [==============================] - 22s 36ms/sample - loss: 0.2462 - accuracy: 0.9285\n",
      "Epoch 4/15\n",
      "601/601 [==============================] - 22s 36ms/sample - loss: 0.1842 - accuracy: 0.9434\n",
      "Epoch 5/15\n",
      "601/601 [==============================] - 23s 38ms/sample - loss: 0.0820 - accuracy: 0.9700\n",
      "Epoch 6/15\n",
      "601/601 [==============================] - 24s 40ms/sample - loss: 0.0583 - accuracy: 0.9734\n",
      "Epoch 7/15\n",
      "601/601 [==============================] - 22s 37ms/sample - loss: 0.0849 - accuracy: 0.9834\n",
      "Epoch 8/15\n",
      "601/601 [==============================] - 22s 37ms/sample - loss: 0.0533 - accuracy: 0.9867\n",
      "Epoch 9/15\n",
      "601/601 [==============================] - 22s 36ms/sample - loss: 0.0495 - accuracy: 0.9867\n",
      "Epoch 10/15\n",
      "601/601 [==============================] - 22s 36ms/sample - loss: 0.0383 - accuracy: 0.9917\n",
      "Epoch 11/15\n",
      "601/601 [==============================] - 22s 37ms/sample - loss: 0.0830 - accuracy: 0.9817\n",
      "Epoch 12/15\n",
      "601/601 [==============================] - 22s 37ms/sample - loss: 0.0016 - accuracy: 1.0000\n",
      "Epoch 13/15\n",
      "601/601 [==============================] - 22s 36ms/sample - loss: 0.0142 - accuracy: 0.9933\n",
      "Epoch 14/15\n",
      "601/601 [==============================] - 22s 36ms/sample - loss: 0.0154 - accuracy: 0.9950\n",
      "Epoch 15/15\n",
      "601/601 [==============================] - 22s 36ms/sample - loss: 0.0784 - accuracy: 0.9834\n",
      "120/120 [==============================] - 4s 37ms/sample - loss: 1.1956 - accuracy: 0.9333\n"
     ]
    }
   ],
   "source": [
    "accuracies = cross_val_score(estimator = classifier, X = X_train, y = Y_train, cv = 6)\n",
    "\n",
    "mean = accuracies.mean()\n",
    "variance = accuracies.std()"
   ]
  },
  {
   "cell_type": "code",
   "execution_count": 24,
   "metadata": {},
   "outputs": [
    {
     "name": "stdout",
     "output_type": "stream",
     "text": [
      "The AVERAGE accuracy after the cross validation is :  0.9292929271856943\n",
      "The VARIANCE of the accuracy after the cross validation is :  0.025696841856770312\n",
      "\n",
      "The accuracies for the cross validation are :\n",
      "\n"
     ]
    },
    {
     "data": {
      "text/html": [
       "<div>\n",
       "<style scoped>\n",
       "    .dataframe tbody tr th:only-of-type {\n",
       "        vertical-align: middle;\n",
       "    }\n",
       "\n",
       "    .dataframe tbody tr th {\n",
       "        vertical-align: top;\n",
       "    }\n",
       "\n",
       "    .dataframe thead th {\n",
       "        text-align: right;\n",
       "    }\n",
       "</style>\n",
       "<table border=\"1\" class=\"dataframe\">\n",
       "  <thead>\n",
       "    <tr style=\"text-align: right;\">\n",
       "      <th></th>\n",
       "      <th>Accuracy</th>\n",
       "    </tr>\n",
       "  </thead>\n",
       "  <tbody>\n",
       "    <tr>\n",
       "      <th>1</th>\n",
       "      <td>0.909091</td>\n",
       "    </tr>\n",
       "    <tr>\n",
       "      <th>2</th>\n",
       "      <td>0.883333</td>\n",
       "    </tr>\n",
       "    <tr>\n",
       "      <th>3</th>\n",
       "      <td>0.941667</td>\n",
       "    </tr>\n",
       "    <tr>\n",
       "      <th>4</th>\n",
       "      <td>0.950000</td>\n",
       "    </tr>\n",
       "    <tr>\n",
       "      <th>5</th>\n",
       "      <td>0.958333</td>\n",
       "    </tr>\n",
       "    <tr>\n",
       "      <th>6</th>\n",
       "      <td>0.933333</td>\n",
       "    </tr>\n",
       "  </tbody>\n",
       "</table>\n",
       "</div>"
      ],
      "text/plain": [
       "   Accuracy\n",
       "1  0.909091\n",
       "2  0.883333\n",
       "3  0.941667\n",
       "4  0.950000\n",
       "5  0.958333\n",
       "6  0.933333"
      ]
     },
     "execution_count": 24,
     "metadata": {},
     "output_type": "execute_result"
    }
   ],
   "source": [
    "accuracy = pd.DataFrame(data = accuracies, index = list(range(1,7)), columns = ['Accuracy'])\n",
    "print('The AVERAGE accuracy after the cross validation is : ', mean)\n",
    "print('The VARIANCE of the accuracy after the cross validation is : ', variance)\n",
    "print('\\nThe accuracies for the cross validation are :\\n')\n",
    "accuracy"
   ]
  },
  {
   "cell_type": "code",
   "execution_count": null,
   "metadata": {},
   "outputs": [],
   "source": []
  }
 ],
 "metadata": {
  "kernelspec": {
   "display_name": "gputest",
   "language": "python",
   "name": "gputest"
  },
  "language_info": {
   "codemirror_mode": {
    "name": "ipython",
    "version": 3
   },
   "file_extension": ".py",
   "mimetype": "text/x-python",
   "name": "python",
   "nbconvert_exporter": "python",
   "pygments_lexer": "ipython3",
   "version": "3.7.7"
  }
 },
 "nbformat": 4,
 "nbformat_minor": 2
}
